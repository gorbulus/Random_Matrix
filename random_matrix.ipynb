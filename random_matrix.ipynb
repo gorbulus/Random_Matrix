{
 "cells": [
  {
   "cell_type": "markdown",
   "metadata": {},
   "source": [
    "# Random Numbers Matrix"
   ]
  },
  {
   "cell_type": "markdown",
   "metadata": {},
   "source": [
    "Use the ```random``` module (more below) to write a function ```random_matrix``` that returns a matrix size ```m``` x ```n``` with random numbers (```m``` is the number of rows and ```n``` is the number of columns)."
   ]
  },
  {
   "cell_type": "code",
   "execution_count": 10,
   "metadata": {
    "collapsed": true
   },
   "outputs": [],
   "source": [
    "import random"
   ]
  },
  {
   "cell_type": "markdown",
   "metadata": {},
   "source": [
    "## The only restriction is that elements in the matrix CAN'T be repeated - they must be unique."
   ]
  },
  {
   "cell_type": "code",
   "execution_count": null,
   "metadata": {
    "collapsed": true
   },
   "outputs": [],
   "source": [
    "random_matrix(3, 2) [\n",
    "    [29, 11],\n",
    "    [91, 85], \n",
    "    [56, 18],\n",
    "]\n",
    "\n",
    "random_matrix(4, 4) [\n",
    "    [29, 11, 23, 90],\n",
    "    [91, 85, 92, 75],\n",
    "    [56, 18, 13, 47],\n",
    "    [65, 99, 49, 10],\n",
    "]"
   ]
  },
  {
   "cell_type": "markdown",
   "metadata": {},
   "source": [
    "## Random Numbers"
   ]
  },
  {
   "cell_type": "markdown",
   "metadata": {},
   "source": [
    "To generate random numbers you can use the ```random``` module."
   ]
  },
  {
   "cell_type": "code",
   "execution_count": 11,
   "metadata": {
    "collapsed": true
   },
   "outputs": [],
   "source": [
    "import random\n",
    "# A random number between 0 and 100\n",
    "number = random.randint(0, 100)"
   ]
  },
  {
   "cell_type": "markdown",
   "metadata": {},
   "source": [
    "## Test Cases"
   ]
  },
  {
   "cell_type": "markdown",
   "metadata": {},
   "source": [
    "Test Size 3 x 2 Matrix with no Elements repeated."
   ]
  },
  {
   "cell_type": "code",
   "execution_count": 19,
   "metadata": {},
   "outputs": [
    {
     "name": "stdout",
     "output_type": "stream",
     "text": [
      "...testing...\n",
      "test_size_3x2_elements_not_repeated has passed\n"
     ]
    }
   ],
   "source": [
    "# test_size_3x2_elements_not_repeated\n",
    "def test_size_3x2_elements_not_repeated():\n",
    "    print(\"...testing...\")\n",
    "    matrix = random_matrix(3, 2)\n",
    "    # asserts that the matrix is 3 rows by 2 columns\n",
    "    assert len(matrix) == 3\n",
    "    for row in matrix:\n",
    "        assert len(row) == 2\n",
    "        \n",
    "        \n",
    "    repeated_elements = []\n",
    "    for row in matrix:\n",
    "        # asserts that no elements in the matrix are repeated\n",
    "        for elem in row:\n",
    "            assert elem not in repeated_elements\n",
    "            repeated_elements.append(elem)\n",
    "    return print(\"test_size_3x2_elements_not_repeated has passed\")\n",
    "\n",
    "# call test function\n",
    "test_size_3x2_elements_not_repeated()"
   ]
  },
  {
   "cell_type": "markdown",
   "metadata": {},
   "source": [
    "## Solution"
   ]
  },
  {
   "cell_type": "code",
   "execution_count": 20,
   "metadata": {
    "collapsed": true
   },
   "outputs": [],
   "source": [
    "# random_non_repeat\n",
    "# returns a unique random integer value used in random_matrix\n",
    "def random_non_repeat(old_values):\n",
    "    while True:\n",
    "        number = random.randint(0, 100)\n",
    "        # Checks if value has been repeated in the matrix\n",
    "        if number not in old_values:\n",
    "            return number\n",
    "\n",
    "# random_matrix\n",
    "# returns a matrix of m and n dimension\n",
    "# contains non-repeating integers\n",
    "def random_matrix(m, n):\n",
    "    old_values = []\n",
    "    matrix = []\n",
    "    \n",
    "    for i in range (m):\n",
    "        row = []\n",
    "        for j in range(n):\n",
    "            number = random_non_repeat(old_values)\n",
    "            row.append(number)\n",
    "            old_values.append(number)\n",
    "        matrix.append(row)\n",
    "    return matrix"
   ]
  },
  {
   "cell_type": "markdown",
   "metadata": {},
   "source": [
    "# Output"
   ]
  },
  {
   "cell_type": "markdown",
   "metadata": {},
   "source": [
    "## Display a matrix of size 4 x 4:"
   ]
  },
  {
   "cell_type": "code",
   "execution_count": 21,
   "metadata": {},
   "outputs": [
    {
     "data": {
      "text/plain": [
       "[[1, 5, 69, 68], [99, 6, 16, 71], [75, 98, 43, 3], [34, 13, 37, 74]]"
      ]
     },
     "execution_count": 21,
     "metadata": {},
     "output_type": "execute_result"
    }
   ],
   "source": [
    "random_matrix(4, 4)"
   ]
  },
  {
   "cell_type": "markdown",
   "metadata": {},
   "source": [
    "## Display a matrix of size 2 x 10:"
   ]
  },
  {
   "cell_type": "code",
   "execution_count": 22,
   "metadata": {},
   "outputs": [
    {
     "data": {
      "text/plain": [
       "[[59, 15, 13, 57, 4, 66, 72, 85, 51, 80],\n",
       " [22, 64, 53, 93, 3, 65, 78, 68, 26, 70]]"
      ]
     },
     "execution_count": 22,
     "metadata": {},
     "output_type": "execute_result"
    }
   ],
   "source": [
    "random_matrix(2, 10)"
   ]
  }
 ],
 "metadata": {
  "kernelspec": {
   "display_name": "Python 3",
   "language": "python",
   "name": "python3"
  },
  "language_info": {
   "codemirror_mode": {
    "name": "ipython",
    "version": 3
   },
   "file_extension": ".py",
   "mimetype": "text/x-python",
   "name": "python",
   "nbconvert_exporter": "python",
   "pygments_lexer": "ipython3",
   "version": "3.6.2"
  }
 },
 "nbformat": 4,
 "nbformat_minor": 2
}
